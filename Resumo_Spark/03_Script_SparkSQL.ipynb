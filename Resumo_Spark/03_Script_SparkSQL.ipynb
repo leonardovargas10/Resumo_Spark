{
 "cells": [
  {
   "cell_type": "markdown",
   "id": "fb173844",
   "metadata": {},
   "source": [
    "# <font color='red' style='font-size: 40px;'> 1) Trabalhando com Spark SQL - Parte 1</font>\n",
    "<hr style='border: 2px solid red;'>"
   ]
  },
  {
   "cell_type": "markdown",
   "id": "5b526f25",
   "metadata": {},
   "source": [
    "# Carregando dados de um arquivo para um Dataframe\n",
    "\n",
    "> 1. Vamos analisar dados sobre quilometragem em bikes na India, buscando realizar:\n",
    "    \n",
    "    - Entender as cidades que mais possuem quilômetros rodados\n",
    "    - Entender as cidades com as médias maiores (ou a maior)\n",
    "    - Entender as cidades com as máximas maiores (ou a maior)\n",
    "    - Entender as cidades com as mínimas menores (ou a maior)\n",
    "    - Verificar qual a cidade tem mais registros e analisá-los\n",
    "        - Analisar a média, máximo e mínimo desta cidade\n",
    "        - Analisar pelo campo que descreve as bikes\n",
    "        - Analisar se as bikes na maioria sao de primeiro ou segundo donos\n",
    "        - Gerando gráficos sobre os dados"
   ]
  },
  {
   "cell_type": "code",
   "execution_count": 1,
   "id": "b4a7e87c",
   "metadata": {},
   "outputs": [],
   "source": [
    "# Importando os dados\n",
    "from pyspark.sql import SparkSession\n",
    "\n",
    "# Criando um objeto sparksession e um appName\n",
    "sparkSession = SparkSession.builder.appName('bikes').getOrCreate()"
   ]
  },
  {
   "cell_type": "code",
   "execution_count": 2,
   "id": "9be01f28",
   "metadata": {},
   "outputs": [],
   "source": [
    "# Fazendo a leitura do arquivo bikes.csv\n",
    "bikes = sparkSession.read.option('header', 'True').csv('Bikes.csv')"
   ]
  },
  {
   "cell_type": "code",
   "execution_count": 4,
   "id": "f09eb5f8",
   "metadata": {},
   "outputs": [
    {
     "name": "stdout",
     "output_type": "stream",
     "text": [
      "+--------------------+--------+---------+----------+------------+---+-----+-------------+\n",
      "|           bike_name|   price|     city|kms_driven|       owner|age|power|        brand|\n",
      "+--------------------+--------+---------+----------+------------+---+-----+-------------+\n",
      "|TVS Star City Plu...| 35000.0|Ahmedabad|   17654.0| First Owner|3.0|110.0|          TVS|\n",
      "|Royal Enfield Cla...|119900.0|    Delhi|   11000.0| First Owner|4.0|350.0|Royal Enfield|\n",
      "|Triumph Daytona 675R|600000.0|    Delhi|     110.0| First Owner|8.0|675.0|      Triumph|\n",
      "|TVS Apache RTR 180cc| 65000.0|Bangalore|   16329.0| First Owner|4.0|180.0|          TVS|\n",
      "|Yamaha FZ S V 2.0...| 80000.0|Bangalore|   10000.0| First Owner|3.0|150.0|       Yamaha|\n",
      "|    Yamaha FZs 150cc| 53499.0|    Delhi|   25000.0| First Owner|6.0|150.0|       Yamaha|\n",
      "|Honda CB Hornet 1...| 85000.0|    Delhi|    8200.0| First Owner|3.0|160.0|        Honda|\n",
      "|Hero Splendor Plu...| 45000.0|    Delhi|   12645.0| First Owner|3.0|100.0|         Hero|\n",
      "|Royal Enfield Thu...|145000.0|Bangalore|    9190.0| First Owner|3.0|350.0|Royal Enfield|\n",
      "|Royal Enfield Cla...| 88000.0|    Delhi|   19000.0|Second Owner|7.0|500.0|Royal Enfield|\n",
      "|Yamaha YZF-R15 2....| 72000.0|Bangalore|   20000.0| First Owner|7.0|150.0|       Yamaha|\n",
      "|   Yamaha FZ25 250cc| 95000.0|Bangalore|    9665.0| First Owner|4.0|250.0|       Yamaha|\n",
      "|  Bajaj Pulsar NS200| 78000.0|Bangalore|    9900.0| First Owner|4.0|200.0|        Bajaj|\n",
      "| Bajaj Discover 100M| 29499.0|    Delhi|   20000.0| First Owner|8.0|100.0|        Bajaj|\n",
      "| Bajaj Discover 125M| 29900.0|    Delhi|   20000.0| First Owner|7.0|125.0|        Bajaj|\n",
      "|Bajaj Pulsar NS20...| 90000.0|Bangalore|   11574.0| First Owner|3.0|200.0|        Bajaj|\n",
      "|Bajaj Pulsar RS20...|120000.0|Bangalore|   23000.0| First Owner|3.0|200.0|        Bajaj|\n",
      "|Suzuki Gixxer SF ...| 48000.0|   Mumbai|   24725.0| First Owner|5.0|150.0|       Suzuki|\n",
      "|  Benelli 302R 300CC|240000.0|   Mumbai|   15025.0|Second Owner|3.0|302.0|      Benelli|\n",
      "| Bajaj Discover 125M| 29900.0|    Delhi|   20000.0| First Owner|7.0|125.0|        Bajaj|\n",
      "+--------------------+--------+---------+----------+------------+---+-----+-------------+\n",
      "only showing top 20 rows\n",
      "\n"
     ]
    }
   ],
   "source": [
    "# Criando uma tabela temporária em memória com os dados e utilizando consulta SQL\n",
    "\n",
    "bikes.createOrReplaceTempView('tab_bikes')\n",
    "sparkSession.sql('select * from tab_bikes').show()"
   ]
  },
  {
   "cell_type": "code",
   "execution_count": 6,
   "id": "e451394e",
   "metadata": {},
   "outputs": [
    {
     "name": "stdout",
     "output_type": "stream",
     "text": [
      "+------------------+------------------+\n",
      "|              city|          media_km|\n",
      "+------------------+------------------+\n",
      "|     Muzaffarnagar|          403833.0|\n",
      "|           Vidisha|          172082.0|\n",
      "|            Ranoli|          135000.0|\n",
      "|           Navsari|          111224.0|\n",
      "|         Osmanabad|           80000.0|\n",
      "|         Kartarpur|           75000.0|\n",
      "|             Latur|           71000.0|\n",
      "|          Motihari|           69000.0|\n",
      "|         Gangaghat|           65000.0|\n",
      "|             Hisar|           65000.0|\n",
      "|         Darbhanga|           61331.5|\n",
      "|           Jaunpur|           61000.0|\n",
      "|            Jaipur| 60106.93346573982|\n",
      "|           Raiwala|           60000.0|\n",
      "|       Chikamaglur|           60000.0|\n",
      "|             Morbi|           60000.0|\n",
      "|             Nabha|           59154.0|\n",
      "|Thiruvananthapuram|58166.666666666664|\n",
      "|             Rasra|           58000.0|\n",
      "|              Bhuj|           54400.0|\n",
      "+------------------+------------------+\n",
      "only showing top 20 rows\n",
      "\n"
     ]
    }
   ],
   "source": [
    "# Selecionando dados para analisar a maior média de quilometros percorridos\n",
    "sparkSession.sql('select city, avg(kms_driven) as media_km from tab_bikes group by city order by media_km desc').show()"
   ]
  },
  {
   "cell_type": "code",
   "execution_count": 9,
   "id": "33e92598",
   "metadata": {},
   "outputs": [
    {
     "name": "stdout",
     "output_type": "stream",
     "text": [
      "+-----+---------+\n",
      "| city|maximo_km|\n",
      "+-----+---------+\n",
      "|Anand|  99999.0|\n",
      "+-----+---------+\n",
      "only showing top 1 row\n",
      "\n"
     ]
    }
   ],
   "source": [
    "# Selecionando dados para analisar a maior quilometragem atingida\n",
    "sparkSession.sql('select city, max(kms_driven) as maximo_km from tab_bikes group by city order by maximo_km desc').show(1)"
   ]
  },
  {
   "cell_type": "code",
   "execution_count": 11,
   "id": "985c9250",
   "metadata": {},
   "outputs": [
    {
     "name": "stdout",
     "output_type": "stream",
     "text": [
      "+------+---------+\n",
      "|  city|minimo_km|\n",
      "+------+---------+\n",
      "|Dhubri|   9900.0|\n",
      "+------+---------+\n",
      "only showing top 1 row\n",
      "\n"
     ]
    }
   ],
   "source": [
    "# Selecionando dados para analisar a menor quilometragem atingida\n",
    "sparkSession.sql('select city, min(kms_driven) as minimo_km from tab_bikes group by city order by minimo_km desc').show(1)"
   ]
  },
  {
   "cell_type": "code",
   "execution_count": 12,
   "id": "9ba873bf",
   "metadata": {},
   "outputs": [
    {
     "name": "stdout",
     "output_type": "stream",
     "text": [
      "+---------------+------------------+-----+\n",
      "|          brand|    potencia_media|total|\n",
      "+---------------+------------------+-----+\n",
      "|          Bajaj|196.31454561669491|11213|\n",
      "|           Hero|116.17996231155779| 6368|\n",
      "|  Royal Enfield| 366.1045955002393| 4178|\n",
      "|         Yamaha|169.35010214504595| 3916|\n",
      "|          Honda|152.67314990512335| 2108|\n",
      "|         Suzuki| 138.2445355191257| 1464|\n",
      "|            TVS| 170.9943865276664| 1247|\n",
      "|            KTM| 346.7595171773445| 1077|\n",
      "|Harley-Davidson| 758.2048846675713|  737|\n",
      "|       Kawasaki| 570.8860759493671|   79|\n",
      "|        Hyosung|             400.0|   64|\n",
      "|        Benelli| 380.2857142857143|   56|\n",
      "|       Mahindra| 192.9090909090909|   55|\n",
      "|        Triumph| 893.0769230769231|   26|\n",
      "|         Ducati|1016.1363636363636|   22|\n",
      "|            BMW|            463.75|   16|\n",
      "|           Jawa|             295.0|   10|\n",
      "|             MV|             872.5|    4|\n",
      "|         Indian|1353.3333333333333|    3|\n",
      "|          Ideal|             250.0|    2|\n",
      "+---------------+------------------+-----+\n",
      "only showing top 20 rows\n",
      "\n"
     ]
    }
   ],
   "source": [
    "# Selecionando dados para analisar a média de potencia das bicicletas e total por cidade\n",
    "sparkSession.sql('select brand, avg(power) as potencia_media, count(*) as total from tab_bikes group by brand order by total desc').show()"
   ]
  },
  {
   "cell_type": "code",
   "execution_count": 15,
   "id": "6343de16",
   "metadata": {},
   "outputs": [],
   "source": [
    "# Selecionando dados para analisar a cidade de Bajaj\n",
    "bajaj = sparkSession.sql(\"select * from tab_bikes where brand = 'Bajaj'\")"
   ]
  },
  {
   "cell_type": "code",
   "execution_count": 16,
   "id": "a1015213",
   "metadata": {},
   "outputs": [],
   "source": [
    "# Criando uma tabela temporária apenas com os dados de Bajaj\n",
    "bajaj.createOrReplaceTempView('tab_bikes2')"
   ]
  },
  {
   "cell_type": "code",
   "execution_count": 17,
   "id": "5dd3ec23",
   "metadata": {},
   "outputs": [
    {
     "data": {
      "text/plain": [
       "pyspark.sql.dataframe.DataFrame"
      ]
     },
     "execution_count": 17,
     "metadata": {},
     "output_type": "execute_result"
    }
   ],
   "source": [
    "# Identificando o tipo de objeto\n",
    "type(bajaj)"
   ]
  },
  {
   "cell_type": "code",
   "execution_count": 18,
   "id": "c7c6ebed",
   "metadata": {},
   "outputs": [
    {
     "name": "stdout",
     "output_type": "stream",
     "text": [
      "+--------+\n",
      "|count(1)|\n",
      "+--------+\n",
      "|   11213|\n",
      "+--------+\n",
      "\n"
     ]
    }
   ],
   "source": [
    "# Selecionando os dados da cidade de Bajaj\n",
    "sparkSession.sql('select count(*) from tab_bikes2').show()"
   ]
  },
  {
   "cell_type": "code",
   "execution_count": 21,
   "id": "38be5bfd",
   "metadata": {},
   "outputs": [
    {
     "data": {
      "text/html": [
       "<div>\n",
       "<style scoped>\n",
       "    .dataframe tbody tr th:only-of-type {\n",
       "        vertical-align: middle;\n",
       "    }\n",
       "\n",
       "    .dataframe tbody tr th {\n",
       "        vertical-align: top;\n",
       "    }\n",
       "\n",
       "    .dataframe thead th {\n",
       "        text-align: right;\n",
       "    }\n",
       "</style>\n",
       "<table border=\"1\" class=\"dataframe\">\n",
       "  <thead>\n",
       "    <tr style=\"text-align: right;\">\n",
       "      <th></th>\n",
       "      <th>owner</th>\n",
       "      <th>total</th>\n",
       "    </tr>\n",
       "  </thead>\n",
       "  <tbody>\n",
       "    <tr>\n",
       "      <th>0</th>\n",
       "      <td>First Owner</td>\n",
       "      <td>29964</td>\n",
       "    </tr>\n",
       "    <tr>\n",
       "      <th>1</th>\n",
       "      <td>Second Owner</td>\n",
       "      <td>2564</td>\n",
       "    </tr>\n",
       "    <tr>\n",
       "      <th>2</th>\n",
       "      <td>Third Owner</td>\n",
       "      <td>108</td>\n",
       "    </tr>\n",
       "    <tr>\n",
       "      <th>3</th>\n",
       "      <td>Fourth Owner Or More</td>\n",
       "      <td>12</td>\n",
       "    </tr>\n",
       "  </tbody>\n",
       "</table>\n",
       "</div>"
      ],
      "text/plain": [
       "                  owner  total\n",
       "0           First Owner  29964\n",
       "1          Second Owner   2564\n",
       "2           Third Owner    108\n",
       "3  Fourth Owner Or More     12"
      ]
     },
     "metadata": {},
     "output_type": "display_data"
    },
    {
     "data": {
      "image/png": "[encoded data removed]",
      "text/plain": [
       "<Figure size 640x480 with 1 Axes>"
      ]
     },
     "metadata": {},
     "output_type": "display_data"
    }
   ],
   "source": [
    "# Plotando os dados \n",
    "import matplotlib.pyplot as plt\n",
    "\n",
    "bajaj_df = sparkSession.sql('select owner, count(*) as total from tab_bikes group by owner order by 2 desc')\n",
    "bajaj_df = bajaj_df.toPandas()\n",
    "display(bajaj_df.head())\n",
    "\n",
    "bajaj_df.plot(kind = 'bar', x = 'owner', y= 'total')\n",
    "plt.title('Como foram adquiridas as Bikes')\n",
    "plt.xlabel('Por uso')\n",
    "plt.ylabel('Total proprietários')\n",
    "plt.show()"
   ]
  },
  {
   "cell_type": "markdown",
   "id": "395a9bc1",
   "metadata": {},
   "source": [
    "# <font color='red' style='font-size: 40px;'> 2) Trabalhando com Spark SQL - Parte 2</font>\n",
    "<hr style='border: 2px solid red;'>"
   ]
  },
  {
   "cell_type": "code",
   "execution_count": null,
   "id": "4b081769",
   "metadata": {},
   "outputs": [],
   "source": []
  }
 ],
 "metadata": {
  "kernelspec": {
   "display_name": "Python 3 (ipykernel)",
   "language": "python",
   "name": "python3"
  },
  "language_info": {
   "codemirror_mode": {
    "name": "ipython",
    "version": 3
   },
   "file_extension": ".py",
   "mimetype": "text/x-python",
   "name": "python",
   "nbconvert_exporter": "python",
   "pygments_lexer": "ipython3",
   "version": "3.9.12"
  }
 },
 "nbformat": 4,
 "nbformat_minor": 5
}
