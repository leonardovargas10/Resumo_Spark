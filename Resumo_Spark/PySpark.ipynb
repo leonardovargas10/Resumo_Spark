{
 "cells": [
  {
   "attachments": {},
   "cell_type": "markdown",
   "metadata": {},
   "source": [
    "<h1 style='color: blue; font-size: 34px; font-weight: bold;'> PySpark Fundamentos </h1>\n",
    "<p style='font-size: 18px; line-height: 2; margin: 0px 0px; text-align: justify; text-indent: 0px;'>    \n",
    "\n",
    "\n",
    "> CONSULTAR: \n",
    "\n",
    "https://www.youtube.com/watch?v=zIdjT-MvL_E&list=PLVIvCbYYmt-ZpOw2rxtWjdS32VPqEewsR&ab_channel=AlexandreLopes\n",
    "\n",
    "https://www.youtube.com/watch?v=EMACjF6eCU4&ab_channel=Stack\n",
    "\n",
    "https://www.youtube.com/watch?v=S6pjvhMHM00&list=RDLV0BY8KySBHwE&index=6&ab_channel=GKTech\n",
    "\n",
    "https://github.com/davypedro/Pyspark-and-Pandas-on-collab-in-the-Spark-to-Big-Data/blob/main/Pandas_on_Spark.ipynb\n",
    "\n",
    "https://www.youtube.com/watch?v=6MaZoOgJa84&list=PLMWaZteqtEaJFiJ2FyIKK0YEuXwQ9YIS_&ab_channel=WafaStudies\n",
    "\n",
    "\n",
    "1- Explicações sobre Transformações e Ações: https://spark.apache.org/docs/latest/rdd-programming-guide.html#transformations\n",
    "\n",
    "2- Explicções sobre operações em geral com exemplos: https://spark.apache.org/docs/latest/api/python/reference/api/pyspark.RDD.cache.html?highlight=cache#pyspark.RDD.cache\n",
    "\n",
    "3- Script Spark Streaming site Apache Spark: https://spark.apache.org/docs/latest/streaming-programming-guide.html\n",
    "\n",
    "4- Emulador Linux: https://mobaxterm.mobatek.net/download-home-edition.html  "
   ]
  },
  {
   "attachments": {},
   "cell_type": "markdown",
   "metadata": {},
   "source": [
    "# <font color='red' style='font-size: 40px;'> 1) Sobre o PySpark </font>\n",
    "<hr style='border: 2px solid red;'>"
   ]
  },
  {
   "cell_type": "markdown",
   "metadata": {},
   "source": [
    "## 1.1) Apache Spark \n",
    "\n",
    "### [Apache Spark](https://spark.apache.org/)\n",
    "\n",
    "Apache Spark é uma plataforma de computação em *cluster* que fornece uma API para programação distribuída para processamento de dados em larga escala, semelhante ao modelo *MapReduce*, mas projetada para ser rápida para consultas interativas e algoritmos iterativos.\n",
    "\n",
    "O Spark permite que você distribua dados e tarefas em clusters com vários nós. Imagine cada nó como um computador separado. A divisão dos dados torna mais fácil o trabalho com conjuntos de dados muito grandes porque cada nó funciona processa apenas uma parte parte do volume total de dados.\n",
    "\n",
    "O Spark é amplamente utilizado em projetos analíticos nas seguintes frentes:\n",
    "\n",
    "- Preparação de dados\n",
    "- Modelos de machine learning\n",
    "- Análise de dados em tempo real\n",
    "\n",
    "<img src = './img3.png' width = '70%'>"
   ]
  },
  {
   "attachments": {},
   "cell_type": "markdown",
   "metadata": {},
   "source": [
    "## 1.2) PySpark\n",
    "\n",
    "### [PySpark](https://spark.apache.org/docs/latest/api/python/index.html)\n",
    "\n",
    "PySpark é uma interface para Apache Spark em Python. Ele não apenas permite que você escreva aplicativos Spark usando APIs Python, mas também fornece o *shell* PySpark para analisar interativamente seus dados em um ambiente distribuído. O PySpark oferece suporte à maioria dos recursos do Spark, como Spark SQL, DataFrame, Streaming, MLlib (Machine Learning) e Spark Core.\n",
    "\n",
    "<center><img src=\"https://caelum-online-public.s3.amazonaws.com/2273-introducao-spark/01/img-001.png\"/></center>\n",
    "\n",
    "#### Spark SQL e DataFrame\n",
    "\n",
    "Spark SQL é um módulo Spark para processamento de dados estruturados. Ele fornece uma abstração de programação chamada DataFrame e também pode atuar como mecanismo de consulta SQL distribuído.\n",
    "\n",
    "#### Spark Streaming\n",
    "\n",
    "Executando em cima do Spark, o recurso de *streaming* no Apache Spark possibilita o uso de poderosas aplicações interativas e analíticas em *streaming* e dados históricos, enquanto herda a facilidade de uso do Spark e as características de tolerância a falhas.\n",
    "\n",
    "#### Spark MLlib\n",
    "\n",
    "Construído sobre o Spark, MLlib é uma biblioteca de aprendizado de máquina escalonável que fornece um conjunto uniforme de APIs de alto nível que ajudam os usuários a criar e ajustar *pipelines* de aprendizado de máquina práticos.\n",
    "\n",
    "#### Spark Core\n",
    "\n",
    "Spark Core é o mecanismo de execução geral subjacente para a plataforma Spark sobre o qual todas as outras funcionalidades são construídas. Ele fornece um RDD (*Resilient Distributed Dataset*) e recursos de computação na memória.\n",
    "\n",
    "<img src = './img1.png' width = '70%'>\n",
    "<img src = './img2.png' width = '70%'>\n",
    "<img src = './img4.png' width = '70%'>\n",
    "<img src = './img5.png' width = '70%'>\n",
    "<img src = './img6.png' width = '70%'>\n",
    "\n"
   ]
  },
  {
   "attachments": {},
   "cell_type": "markdown",
   "metadata": {},
   "source": [
    "## 1.3) Dataframes com Spark \n",
    "\n",
    "### Interfaces Spark\n",
    "\n",
    "Existem três interfaces principais do Apache Spark que você deve conhecer: Resilient Distributed Dataset, DataFrame e Dataset.\n",
    "\n",
    "- **Resilient Distributed Dataset**: A primeira abstração do Apache Spark foi o Resilient Distributed Dataset (RDD). É uma interface para uma sequência de objetos de dados que consiste em um ou mais tipos localizados em uma coleção de máquinas (um cluster). Os RDDs podem ser criados de várias maneiras e são a API de “nível mais baixo” disponível. Embora esta seja a estrutura de dados original do Apache Spark, você deve se concentrar na API DataFrame, que é um superconjunto da funcionalidade RDD. A API RDD está disponível nas linguagens Java, Python e Scala.\n",
    "\n",
    "- **DataFrame**: Trata-se de um conceito similar ao DataFrame que você pode estar familiarizado como o pacote pandas do Python e a linguagem R . A API DataFrame está disponível nas linguagens Java, Python, R e Scala.\n",
    "\n",
    "- **Dataset**: uma combinação de DataFrame e RDD. Ele fornece a interface digitada que está disponível em RDDs enquanto fornece a conveniência do DataFrame. A API Dataset está disponível nas linguagens Java e Scala.\n",
    "\n",
    "Em muitos cenários, especialmente com as otimizações de desempenho incorporadas em DataFrames e Datasets, não será necessário trabalhar com RDDs. Mas é importante entender a abstração RDD porque:\n",
    "\n",
    "- O RDD é a infraestrutura subjacente que permite que o Spark seja executado com tanta rapidez e forneça a linhagem de dados.\n",
    "\n",
    "- Se você estiver mergulhando em componentes mais avançados do Spark, pode ser necessário usar RDDs.\n",
    "\n",
    "- As visualizações na Spark UI fazem referência a RDDs.\n",
    "\n"
   ]
  },
  {
   "cell_type": "markdown",
   "metadata": {},
   "source": [
    "# <font color='red' style='font-size: 40px;'> 2) O que é SparkContext e RDD</font>\n",
    "<hr style='border: 2px solid red;'>"
   ]
  },
  {
   "attachments": {},
   "cell_type": "markdown",
   "metadata": {},
   "source": [
    "## 2.1) Spark Context\n",
    "\n",
    "<img src = './img7.png' width = '70%'>\n",
    "<img src = './img8.png' width = '70%'>\n",
    "<img src = './img9.png' width = '70%'>\n",
    "<img src = './img10.png' width = '100%'>\n",
    "\n",
    "## 2.2) Trabalhando com RDD \n",
    "\n",
    "<img src = './img11.png' width = '100%'>\n",
    "<img src = './img12.png' width = '100%'>\n",
    "\n",
    "## 2.3) Funçao Lambda - Muito utilizada em PySpark\n",
    "\n",
    "<img src = './img13.png' width = '100%'>\n",
    "<img src = './img14.png' width = '100%'>\n",
    "\n",
    "## 2.4) Uso de Joins com RDD\n",
    "\n",
    "<img src = './img15.png' width = '100%'>"
   ]
  },
  {
   "attachments": {},
   "cell_type": "markdown",
   "metadata": {},
   "source": [
    "# <font color='red' style='font-size: 40px;'> 3) O que é SparkSession e DataFrame</font>\n",
    "<hr style='border: 2px solid red;'>"
   ]
  },
  {
   "cell_type": "markdown",
   "metadata": {},
   "source": [
    "## 3.1) O que é um DataFrame\n",
    "\n",
    "<img src = './img16.png' width = '100%'>\n",
    "\n",
    "## 2.3) O que é um SparkSession\n",
    "\n",
    "<img src = './img17.png' width = '100%'>"
   ]
  }
 ],
 "metadata": {
  "kernelspec": {
   "display_name": "base",
   "language": "python",
   "name": "python3"
  },
  "language_info": {
   "codemirror_mode": {
    "name": "ipython",
    "version": 3
   },
   "file_extension": ".py",
   "mimetype": "text/x-python",
   "name": "python",
   "nbconvert_exporter": "python",
   "pygments_lexer": "ipython3",
   "version": "3.9.12 (main, Apr  4 2022, 05:22:27) [MSC v.1916 64 bit (AMD64)]"
  },
  "orig_nbformat": 4,
  "vscode": {
   "interpreter": {
    "hash": "5a9a036f549c34521959f2e35c11282d59c2fa6997060d671aa6f29f1c44b680"
   }
  }
 },
 "nbformat": 4,
 "nbformat_minor": 2
}
