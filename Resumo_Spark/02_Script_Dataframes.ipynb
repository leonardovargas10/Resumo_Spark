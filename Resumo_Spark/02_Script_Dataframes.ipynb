{
 "cells": [
  {
   "cell_type": "markdown",
   "id": "0b9f257d",
   "metadata": {},
   "source": [
    "<font color='red' style='font-size: 40px;'> 1) Trabalhando com Dataframes - Parte 1</font>\n",
    "<hr style='border: 2px solid red;'>"
   ]
  },
  {
   "cell_type": "markdown",
   "id": "74cff5fc",
   "metadata": {},
   "source": [
    "## 1.1) Criaçao de DataFrame "
   ]
  },
  {
   "cell_type": "code",
   "execution_count": 2,
   "id": "23e4b8a0",
   "metadata": {},
   "outputs": [
    {
     "data": {
      "text/plain": [
       "DataFrame[Cidade: string, Populacao: double, Time: string, Data_Cadastro: date]"
      ]
     },
     "execution_count": 2,
     "metadata": {},
     "output_type": "execute_result"
    }
   ],
   "source": [
    "from datetime import datetime, date\n",
    "from pyspark.sql import Row\n",
    "\n",
    "df = spark.createDataFrame([\n",
    "    Row(Cidade = 'Salvador', Populacao = 6., Time = 'Bahia', Data_Cadastro = date(2022, 12, 19)),\n",
    "    Row(Cidade = 'Sao Paulo', Populacao = 45., Time = 'Palmeiras', Data_Cadastro = date(2022, 5, 5)),\n",
    "    Row(Cidade = 'Recife', Populacao = 3., Time = 'Sport', Data_Cadastro = date(2022, 7, 2)),\n",
    "    Row(Cidade = 'Maceio', Populacao = 2., Time = 'CSA', Data_Cadastro = date(2022, 8, 1))\n",
    "])\n",
    "df"
   ]
  },
  {
   "cell_type": "code",
   "execution_count": 3,
   "id": "652dbcb1",
   "metadata": {},
   "outputs": [
    {
     "name": "stdout",
     "output_type": "stream",
     "text": [
      "+---------+---------+---------+-------------+\n",
      "|   Cidade|Populacao|     Time|Data_Cadastro|\n",
      "+---------+---------+---------+-------------+\n",
      "| Salvador|      6.0|    Bahia|   2022-12-19|\n",
      "|Sao Paulo|     45.0|Palmeiras|   2022-05-05|\n",
      "|   Recife|      3.0|    Sport|   2022-07-02|\n",
      "|   Maceio|      2.0|      CSA|   2022-08-01|\n",
      "+---------+---------+---------+-------------+\n",
      "\n"
     ]
    }
   ],
   "source": [
    "# Exibindo dados do DataFrame\n",
    "df.show()"
   ]
  },
  {
   "cell_type": "code",
   "execution_count": 4,
   "id": "d1451815",
   "metadata": {},
   "outputs": [
    {
     "name": "stdout",
     "output_type": "stream",
     "text": [
      "-RECORD 0-------------------\n",
      " Cidade        | Salvador   \n",
      " Populacao     | 6.0        \n",
      " Time          | Bahia      \n",
      " Data_Cadastro | 2022-12-19 \n",
      "-RECORD 1-------------------\n",
      " Cidade        | Sao Paulo  \n",
      " Populacao     | 45.0       \n",
      " Time          | Palmeiras  \n",
      " Data_Cadastro | 2022-05-05 \n",
      "-RECORD 2-------------------\n",
      " Cidade        | Recife     \n",
      " Populacao     | 3.0        \n",
      " Time          | Sport      \n",
      " Data_Cadastro | 2022-07-02 \n",
      "only showing top 3 rows\n",
      "\n"
     ]
    }
   ],
   "source": [
    "# Exibindo três registros do Dataframe na vertical\n",
    "df.show(3, vertical = True)"
   ]
  },
  {
   "cell_type": "code",
   "execution_count": 5,
   "id": "e4fcbd75",
   "metadata": {},
   "outputs": [
    {
     "data": {
      "text/plain": [
       "[Row(Cidade='Salvador', Populacao=6.0, Time='Bahia', Data_Cadastro=datetime.date(2022, 12, 19)),\n",
       " Row(Cidade='Sao Paulo', Populacao=45.0, Time='Palmeiras', Data_Cadastro=datetime.date(2022, 5, 5)),\n",
       " Row(Cidade='Recife', Populacao=3.0, Time='Sport', Data_Cadastro=datetime.date(2022, 7, 2)),\n",
       " Row(Cidade='Maceio', Populacao=2.0, Time='CSA', Data_Cadastro=datetime.date(2022, 8, 1))]"
      ]
     },
     "execution_count": 5,
     "metadata": {},
     "output_type": "execute_result"
    }
   ],
   "source": [
    "# Exibindo todos os dados com o collect()\n",
    "df.collect()"
   ]
  },
  {
   "cell_type": "code",
   "execution_count": 6,
   "id": "c2e3eee3",
   "metadata": {},
   "outputs": [
    {
     "name": "stdout",
     "output_type": "stream",
     "text": [
      "+-------+---------+-----------------+\n",
      "|summary|   Cidade|        Populacao|\n",
      "+-------+---------+-----------------+\n",
      "|  count|        4|                4|\n",
      "|   mean|     null|             14.0|\n",
      "| stddev|     null|20.73644135332772|\n",
      "|    min|   Maceio|              2.0|\n",
      "|    max|Sao Paulo|             45.0|\n",
      "+-------+---------+-----------------+\n",
      "\n"
     ]
    }
   ],
   "source": [
    "# Sumarizando Estatísticas Descritivas \n",
    "df.select('Cidade', 'Populacao').describe().show()"
   ]
  },
  {
   "cell_type": "code",
   "execution_count": 7,
   "id": "b2b5bdf8",
   "metadata": {},
   "outputs": [
    {
     "name": "stdout",
     "output_type": "stream",
     "text": [
      "root\n",
      " |-- Cidade: string (nullable = true)\n",
      " |-- Populacao: double (nullable = true)\n",
      " |-- Time: string (nullable = true)\n",
      " |-- Data_Cadastro: date (nullable = true)\n",
      "\n"
     ]
    }
   ],
   "source": [
    "# Exibindo o Schema do Dataframe\n",
    "df.printSchema()"
   ]
  },
  {
   "cell_type": "code",
   "execution_count": 13,
   "id": "d1ac9bf4",
   "metadata": {},
   "outputs": [
    {
     "name": "stdout",
     "output_type": "stream",
     "text": [
      "+---------+---------+---------+-------------+---------+\n",
      "|   Cidade|Populacao|     Time|Data_Cadastro| Cidade_U|\n",
      "+---------+---------+---------+-------------+---------+\n",
      "| Salvador|      6.0|    Bahia|   2022-12-19| SALVADOR|\n",
      "|Sao Paulo|     45.0|Palmeiras|   2022-05-05|SAO PAULO|\n",
      "|   Recife|      3.0|    Sport|   2022-07-02|   RECIFE|\n",
      "|   Maceio|      2.0|      CSA|   2022-08-01|   MACEIO|\n",
      "+---------+---------+---------+-------------+---------+\n",
      "\n"
     ]
    }
   ],
   "source": [
    "# Carregando o módulo de funçoes e criando uma Nova Coluna\n",
    "from pyspark.sql.functions import upper, max, min, mean\n",
    "\n",
    "df.withColumn('Cidade_U', upper(df.Cidade)).show()"
   ]
  },
  {
   "cell_type": "code",
   "execution_count": 14,
   "id": "62c8c5b9",
   "metadata": {},
   "outputs": [
    {
     "name": "stdout",
     "output_type": "stream",
     "text": [
      "+--------+---------+-----+-------------+\n",
      "|  Cidade|Populacao| Time|Data_Cadastro|\n",
      "+--------+---------+-----+-------------+\n",
      "|Salvador|      6.0|Bahia|   2022-12-19|\n",
      "+--------+---------+-----+-------------+\n",
      "\n"
     ]
    }
   ],
   "source": [
    "# Filtrando a Cidade de Salvador\n",
    "df.filter(df.Cidade == 'Salvador').show()"
   ]
  },
  {
   "cell_type": "code",
   "execution_count": 17,
   "id": "de1a9cfa",
   "metadata": {},
   "outputs": [
    {
     "name": "stdout",
     "output_type": "stream",
     "text": [
      "+---------+---------+---------+-------------+\n",
      "|   Cidade|Populacao|     Time|Data_Cadastro|\n",
      "+---------+---------+---------+-------------+\n",
      "|Sao Paulo|     45.0|Palmeiras|   2022-05-05|\n",
      "| Salvador|      6.0|    Bahia|   2022-12-19|\n",
      "|   Recife|      3.0|    Sport|   2022-07-02|\n",
      "|   Maceio|      2.0|      CSA|   2022-08-01|\n",
      "+---------+---------+---------+-------------+\n",
      "\n"
     ]
    }
   ],
   "source": [
    "# Ordena o dataframe pela coluna Populacao\n",
    "df.sort('Populacao', ascending = False).show()"
   ]
  },
  {
   "cell_type": "code",
   "execution_count": 18,
   "id": "cd300d9e",
   "metadata": {},
   "outputs": [
    {
     "name": "stdout",
     "output_type": "stream",
     "text": [
      "+---------+---------+---------+-------------+\n",
      "|   Cidade|Populacao|     Time|Data_Cadastro|\n",
      "+---------+---------+---------+-------------+\n",
      "| Salvador|      6.0|    Bahia|   2022-12-19|\n",
      "|Sao Paulo|     45.0|Palmeiras|   2022-05-05|\n",
      "|   Recife|      3.0|    Sport|   2022-07-02|\n",
      "|   Maceio|      2.0|      CSA|   2022-08-01|\n",
      "+---------+---------+---------+-------------+\n",
      "\n"
     ]
    }
   ],
   "source": [
    "# Renomeando uma coluna no dataframe\n",
    "df.withColumnRenamed('Cidade_U', 'Cidade_UPPER').show()"
   ]
  },
  {
   "cell_type": "code",
   "execution_count": 19,
   "id": "eff90348",
   "metadata": {},
   "outputs": [
    {
     "name": "stdout",
     "output_type": "stream",
     "text": [
      "+----------+\n",
      "|quantidade|\n",
      "+----------+\n",
      "|         4|\n",
      "+----------+\n",
      "\n"
     ]
    }
   ],
   "source": [
    "# Criando uma tabela temporária em memória com os dados e utilizando consulta SQL\n",
    "df.createOrReplaceTempView('Dados')\n",
    "spark.sql('select count(*) as quantidade from Dados').show()"
   ]
  },
  {
   "cell_type": "markdown",
   "id": "7a0d9d34",
   "metadata": {},
   "source": [
    "## 1.2) Transformando um RDD em Dataframe"
   ]
  },
  {
   "cell_type": "code",
   "execution_count": 27,
   "id": "1db7928a",
   "metadata": {},
   "outputs": [],
   "source": [
    "# carregando os dados sobre Capital de países\n",
    "paises = [('Brasil', 100000), ('Argentina', 20000), ('Australia', 35000), ('Italia', 40000), ('Egito', 65000), ('Mexico', 80000)]\n",
    "rddpaises = spark.sparkContext.parallelize(paises)"
   ]
  },
  {
   "cell_type": "code",
   "execution_count": 28,
   "id": "92959b8a",
   "metadata": {},
   "outputs": [],
   "source": [
    "# Convertendo os dados do RDD para Dataframe com a operaçao toDF()\n",
    "dataframerdd = rddpaises.toDF()"
   ]
  },
  {
   "cell_type": "code",
   "execution_count": 29,
   "id": "6c2a6ae3",
   "metadata": {},
   "outputs": [
    {
     "name": "stdout",
     "output_type": "stream",
     "text": [
      "+---------+------+\n",
      "|       _1|    _2|\n",
      "+---------+------+\n",
      "|   Brasil|100000|\n",
      "|Argentina| 20000|\n",
      "|Australia| 35000|\n",
      "|   Italia| 40000|\n",
      "|    Egito| 65000|\n",
      "|   Mexico| 80000|\n",
      "+---------+------+\n",
      "\n"
     ]
    }
   ],
   "source": [
    "# Exibindo os dados do Dataframe\n",
    "dataframerdd.show()"
   ]
  },
  {
   "cell_type": "code",
   "execution_count": 30,
   "id": "2600bfbb",
   "metadata": {},
   "outputs": [
    {
     "name": "stdout",
     "output_type": "stream",
     "text": [
      "root\n",
      " |-- Pais: string (nullable = true)\n",
      " |-- Total_capital(Bilhoes): long (nullable = true)\n",
      "\n",
      "+---------+----------------------+\n",
      "|Pais     |Total_capital(Bilhoes)|\n",
      "+---------+----------------------+\n",
      "|Brasil   |100000                |\n",
      "|Argentina|20000                 |\n",
      "|Australia|35000                 |\n",
      "|Italia   |40000                 |\n",
      "|Egito    |65000                 |\n",
      "|Mexico   |80000                 |\n",
      "+---------+----------------------+\n",
      "\n"
     ]
    }
   ],
   "source": [
    "# Criando o Schema das Colunas dos Campos do Dataframe\n",
    "Colunas = ['Pais', 'Total_capital(Bilhoes)']\n",
    "dataframerdd2 = rddpaises.toDF(Colunas)\n",
    "dataframerdd2.printSchema()\n",
    "dataframerdd2.show(truncate = False)"
   ]
  },
  {
   "cell_type": "markdown",
   "id": "bb8d18c7",
   "metadata": {},
   "source": [
    "<font color='red' style='font-size: 40px;'> 2) Trabalhando com Dataframes - Parte 2</font>\n",
    "<hr style='border: 2px solid red;'>"
   ]
  },
  {
   "cell_type": "markdown",
   "id": "d2799625",
   "metadata": {},
   "source": [
    "# Carregando dados de um arquivo para um Dataframe\n",
    "\n",
    "> 1. Vamos analisar dados sobre alimentos, buscando realizar:\n",
    "    \n",
    "- Limpeza dos dados\n",
    "- Separaçao de determinadas colunas\n",
    "- Busca de respostas\n",
    "\n",
    "> 2. Questoes a serem levantadas:\n",
    "    \n",
    "- Há inconsistência nos dados?\n",
    "- É possível verificar características de sobrepeso nos dados, já que este atributo nao existe?\n",
    "- Qual resultado é possível interpretar com a pesquisa por sobrepeso?"
   ]
  },
  {
   "cell_type": "code",
   "execution_count": 31,
   "id": "3b5fc51d",
   "metadata": {},
   "outputs": [],
   "source": [
    "from pyspark.sql import SparkSession\n",
    "\n",
    "# criando um objeto SparkSession e um appName\n",
    "spark = SparkSession.builder.appName('fooddf').getOrCreate()\n"
   ]
  },
  {
   "cell_type": "code",
   "execution_count": 32,
   "id": "20d40f77",
   "metadata": {},
   "outputs": [],
   "source": [
    "# Fazendo leitura do arquivo food_coded.csv\n",
    "df = spark.read.option('header', 'True').csv('food_coded.csv')"
   ]
  },
  {
   "cell_type": "code",
   "execution_count": 33,
   "id": "5e20d369",
   "metadata": {},
   "outputs": [
    {
     "name": "stdout",
     "output_type": "stream",
     "text": [
      "+---------------+------+--------------------+----------------+------------+--------------+------+--------------------+--------------------+---------------------------+----+----------------------------+-------+--------------------+------------------+-----+--------------------+--------------------+---------------------+----------+----------+-----------+--------+----------------+-----------------+--------------------+-----------------+--------+--------------------+-----+---------+-----------+----------+---------------+--------------------+--------------------+----------------+------+-----------+------------+--------------+--------------+--------------------+----------------+--------------------+-----------------+-------------+------------+------------+------------+----------------------+----+------+---------+-----------------+---------------+-----------+-----------+--------+---------------+--------------------+\n",
      "|            GPA|Gender|           breakfast|calories_chicken|calories_day|calories_scone|coffee|        comfort_food|comfort_food_reasons|comfort_food_reasons_coded9|cook|comfort_food_reasons_coded11|cuisine|        diet_current|diet_current_coded|drink|      eating_changes|eating_changes_coded|eating_changes_coded1|eating_out|employment|ethnic_food|exercise|father_education|father_profession|         fav_cuisine|fav_cuisine_coded|fav_food|      food_childhood|fries|fruit_day|grade_level|greek_food|healthy_feeling|        healthy_meal|          ideal_diet|ideal_diet_coded|income|indian_food|italian_food|life_rewarding|marital_status| meals_dinner_friend|mother_education|   mother_profession|nutritional_check|on_off_campus|parents_cook|pay_meal_out|persian_food|self_perception_weight|soup|sports|thai_food|tortilla_calories|turkey_calories|type_sports|veggies_day|vitamins|waffle_calories|              weight|\n",
      "+---------------+------+--------------------+----------------+------------+--------------+------+--------------------+--------------------+---------------------------+----+----------------------------+-------+--------------------+------------------+-----+--------------------+--------------------+---------------------+----------+----------+-----------+--------+----------------+-----------------+--------------------+-----------------+--------+--------------------+-----+---------+-----------+----------+---------------+--------------------+--------------------+----------------+------+-----------+------------+--------------+--------------+--------------------+----------------+--------------------+-----------------+-------------+------------+------------+------------+----------------------+----+------+---------+-----------------+---------------+-----------+-----------+--------+---------------+--------------------+\n",
      "|            2.4|     2|                   1|             430|         nan|           315|     1|                none|we dont have comf...|                          9|   2|                           9|    nan|eat good and exer...|                 1|    1|         eat faster |                   1|                    1|         3|         3|          1|       1|               5|        profesor |      Arabic cuisine|                3|       1|  rice  and chicken |    2|        5|          2|         5|              2|     looks not oily |      being healthy |               8|     5|          5|           5|             1|             1|rice, chicken,  soup|               1|          unemployed|                5|            1|           1|           2|           5|                     3|   1|     1|        1|             1165|            345| car racing|          5|       1|           1315|                 187|\n",
      "|          3.654|     1|                   1|             610|           3|           420|     2|chocolate, chips,...|Stress, bored, anger|                          1|   3|                           1|      1|I eat about three...|                 2|    2|I eat out more th...|                   1|                    2|         2|         2|          4|       1|               2|   Self employed |             Italian|                1|       1|chicken and biscu...|    1|        4|          4|         4|              5|Grains, Veggies, ...|Try to eat 5-6 sm...|               3|     4|          4|           4|             1|             2|Pasta, steak, chi...|               4|           Nurse RN |                4|            1|           1|           4|           4|                     3|   1|     1|        2|              725|            690|Basketball |          4|       2|            900|                 155|\n",
      "|            3.3|     1|                   1|             720|           4|           420|     2|frozen yogurt, pi...|     stress, sadness|                          1|   1|                           1|      3|toast and fruit f...|                 3|    1|sometimes choosin...|                   1|                    3|         2|         3|          5|       2|               2|    owns business|             italian|                1|       3|mac and cheese, p...|    1|        5|          3|         5|              6|usually includes ...|i would say my id...|               6|     6|          5|           5|             7|             2|chicken and rice ...|               2|       owns business|                4|            2|           1|           3|           5|                     6|   1|     2|        5|             1165|            500|       none|          5|       1|            900|I'm not answering...|\n",
      "|            3.2|     1|                   1|             430|           3|           420|     2|Pizza, Mac and ch...|             Boredom|                          2|   2|                           2|      2|College diet, che...|                 2|    2|Accepting cheap a...|                   1|                    3|         2|         3|          5|       3|               2|        Mechanic |            Turkish |                3|       1|Beef stroganoff, ...|    2|        4|          4|         5|              7|Fresh fruits& veg...|Healthy, fresh ve...|               2|     6|          5|           5|             2|             2|    Grilled chicken |            null|                null|             null|         null|        null|        null|        null|                  null|null|  null|     null|             null|           null|       null|       null|    null|           null|                null|\n",
      "| Stuffed Shells|  null|                null|            null|        null|          null|  null|                null|                null|                       null|null|                        null|   null|                null|              null| null|                null|                null|                 null|      null|      null|       null|    null|            null|             null|                null|             null|    null|                null| null|     null|       null|      null|           null|                null|                null|            null|  null|       null|        null|          null|          null|                null|            null|                null|             null|         null|        null|        null|        null|                  null|null|  null|     null|             null|           null|       null|       null|    null|           null|                null|\n",
      "|Homemade Chili\"|     4|Special Education...|               2|           1|             1|     2|                   5|                   5|                          1|   2|                           5|    725|                 690|               nan|    3|                   1|                1315|        Not sure, 240|      null|      null|       null|    null|            null|             null|                null|             null|    null|                null| null|     null|       null|      null|           null|                null|                null|            null|  null|       null|        null|          null|          null|                null|            null|                null|             null|         null|        null|        null|        null|                  null|null|  null|     null|             null|           null|       null|       null|    null|           null|                null|\n",
      "|            3.5|     1|                   1|             720|           2|           420|     2|Ice cream, chocol...|Stress, boredom, ...|                          1|   1|                           1|      2|I try to eat heal...|                 2|    2|I have eaten gene...|                   3|                    4|         2|         2|          4|       1|               4|               IT|            Italian |                1|       3|Pasta, chicken te...|    1|        4|          4|         4|              6|A lean protein su...|Ideally I would l...|               2|     6|          2|           5|             1|             1|Chicken Parmesan,...|               5|Substance Abuse C...|                3|            1|           1|           4|           2|                     4|   1|     1|        4|              940|            500|   Softball|          4|       2|            760|                 190|\n",
      "|           2.25|     1|                   1|             610|           3|           980|     2|Candy, brownies a...|None, i don't eat...|                          4|   3|                           4|    nan|My current diet i...|                 2|    2|Eating rice every...|                   1|                    3|         1|         3|          4|       2|               1|      Taxi Driver|             African|                6|       3|Fries, plaintain ...|    1|        2|          2|         2|              4|Requires veggies,...|My ideal diet is ...|               2|     1|          5|           5|             4|             2|Anything they'd w...|               1|        Hair Braider|                1|            1|           2|           5|           5|                     5|   1|     2|        4|              940|            345|      None.|          1|       2|           1315|                 190|\n",
      "|            3.8|     2|                   1|             610|           3|           420|     2|Chocolate, ice cr...|     stress, boredom|                          1|   2|                           1|      1|I eat a lot of ch...|                 3|    1|I started eating ...|                   2|                    5|         2|         3|          5|       1|               4|       Assembler |                Thai|                4|       1|grilled chicken, ...|    1|        4|          4|         5|              4|Protein, vegetabl...|I would ideally l...|               2|     4|          5|           5|             8|             1|Grilled chicken, ...|               4|          Journalist|                4|            2|           2|           2|           5|                     4|   1|     1|        5|              940|            690|     soccer|          4|       1|           1315|                 180|\n",
      "|            3.3|     1|                   1|             720|           3|           420|     1|Ice cream, cheese...|I eat comfort foo...|                          1|   3|                           1|      1|I eat a very heal...|                 1|    2|Freshmen year i a...|                   2|                    5|         2|         2|          2|       2|               3|     Business guy|Anything american...|                5|       1|chicken, cheesey ...|    1|        5|          2|         3|              3|A healthy meal ha...|My ideal diet is ...|               2|     5|          1|           3|             3|             1|chicken, steak, p...|               2|                cook|                4|            1|           1|           5|           1|                     3|   1|     2|        1|              725|            500|       none|          4|       2|           1315|                 137|\n",
      "+---------------+------+--------------------+----------------+------------+--------------+------+--------------------+--------------------+---------------------------+----+----------------------------+-------+--------------------+------------------+-----+--------------------+--------------------+---------------------+----------+----------+-----------+--------+----------------+-----------------+--------------------+-----------------+--------+--------------------+-----+---------+-----------+----------+---------------+--------------------+--------------------+----------------+------+-----------+------------+--------------+--------------+--------------------+----------------+--------------------+-----------------+-------------+------------+------------+------------+----------------------+----+------+---------+-----------------+---------------+-----------+-----------+--------+---------------+--------------------+\n",
      "only showing top 10 rows\n",
      "\n"
     ]
    }
   ],
   "source": [
    "# Exibindo 10 primeiras linhas\n",
    "df.show(10)"
   ]
  },
  {
   "cell_type": "code",
   "execution_count": 34,
   "id": "1bc69af3",
   "metadata": {},
   "outputs": [
    {
     "name": "stdout",
     "output_type": "stream",
     "text": [
      "root\n",
      " |-- GPA: string (nullable = true)\n",
      " |-- Gender: string (nullable = true)\n",
      " |-- breakfast: string (nullable = true)\n",
      " |-- calories_chicken: string (nullable = true)\n",
      " |-- calories_day: string (nullable = true)\n",
      " |-- calories_scone: string (nullable = true)\n",
      " |-- coffee: string (nullable = true)\n",
      " |-- comfort_food: string (nullable = true)\n",
      " |-- comfort_food_reasons: string (nullable = true)\n",
      " |-- comfort_food_reasons_coded9: string (nullable = true)\n",
      " |-- cook: string (nullable = true)\n",
      " |-- comfort_food_reasons_coded11: string (nullable = true)\n",
      " |-- cuisine: string (nullable = true)\n",
      " |-- diet_current: string (nullable = true)\n",
      " |-- diet_current_coded: string (nullable = true)\n",
      " |-- drink: string (nullable = true)\n",
      " |-- eating_changes: string (nullable = true)\n",
      " |-- eating_changes_coded: string (nullable = true)\n",
      " |-- eating_changes_coded1: string (nullable = true)\n",
      " |-- eating_out: string (nullable = true)\n",
      " |-- employment: string (nullable = true)\n",
      " |-- ethnic_food: string (nullable = true)\n",
      " |-- exercise: string (nullable = true)\n",
      " |-- father_education: string (nullable = true)\n",
      " |-- father_profession: string (nullable = true)\n",
      " |-- fav_cuisine: string (nullable = true)\n",
      " |-- fav_cuisine_coded: string (nullable = true)\n",
      " |-- fav_food: string (nullable = true)\n",
      " |-- food_childhood: string (nullable = true)\n",
      " |-- fries: string (nullable = true)\n",
      " |-- fruit_day: string (nullable = true)\n",
      " |-- grade_level: string (nullable = true)\n",
      " |-- greek_food: string (nullable = true)\n",
      " |-- healthy_feeling: string (nullable = true)\n",
      " |-- healthy_meal: string (nullable = true)\n",
      " |-- ideal_diet: string (nullable = true)\n",
      " |-- ideal_diet_coded: string (nullable = true)\n",
      " |-- income: string (nullable = true)\n",
      " |-- indian_food: string (nullable = true)\n",
      " |-- italian_food: string (nullable = true)\n",
      " |-- life_rewarding: string (nullable = true)\n",
      " |-- marital_status: string (nullable = true)\n",
      " |-- meals_dinner_friend: string (nullable = true)\n",
      " |-- mother_education: string (nullable = true)\n",
      " |-- mother_profession: string (nullable = true)\n",
      " |-- nutritional_check: string (nullable = true)\n",
      " |-- on_off_campus: string (nullable = true)\n",
      " |-- parents_cook: string (nullable = true)\n",
      " |-- pay_meal_out: string (nullable = true)\n",
      " |-- persian_food: string (nullable = true)\n",
      " |-- self_perception_weight: string (nullable = true)\n",
      " |-- soup: string (nullable = true)\n",
      " |-- sports: string (nullable = true)\n",
      " |-- thai_food: string (nullable = true)\n",
      " |-- tortilla_calories: string (nullable = true)\n",
      " |-- turkey_calories: string (nullable = true)\n",
      " |-- type_sports: string (nullable = true)\n",
      " |-- veggies_day: string (nullable = true)\n",
      " |-- vitamins: string (nullable = true)\n",
      " |-- waffle_calories: string (nullable = true)\n",
      " |-- weight: string (nullable = true)\n",
      "\n"
     ]
    }
   ],
   "source": [
    "# Exibindo o Schema\n",
    "df.printSchema()"
   ]
  },
  {
   "cell_type": "code",
   "execution_count": 35,
   "id": "fb58e274",
   "metadata": {},
   "outputs": [
    {
     "name": "stdout",
     "output_type": "stream",
     "text": [
      "+--------------------+--------------------+------+--------------------+------------+\n",
      "|   mother_profession|         type_sports|Gender|              weight|calories_day|\n",
      "+--------------------+--------------------+------+--------------------+------------+\n",
      "|          unemployed|          car racing|     2|                 187|         nan|\n",
      "|           Nurse RN |         Basketball |     1|                 155|           3|\n",
      "|       owns business|                none|     1|I'm not answering...|           4|\n",
      "|                null|                null|     1|                null|           3|\n",
      "|                null|                null|  null|                null|        null|\n",
      "|                null|                null|     4|                null|           1|\n",
      "|Substance Abuse C...|            Softball|     1|                 190|           2|\n",
      "|        Hair Braider|               None.|     1|                 190|           3|\n",
      "|          Journalist|              soccer|     2|                 180|           3|\n",
      "|                cook|                none|     1|                 137|           3|\n",
      "|Elementary School...|                none|     1|                 180|         nan|\n",
      "|  Pharmaceutical rep|        field hockey|     1|                 125|           3|\n",
      "|     Chidos Cleaners|              soccer|     1|                 116|           3|\n",
      "|     Court Reporter |             Running|     1|                 110|           4|\n",
      "|Child care provider |Soccer and basket...|     2|                 264|           3|\n",
      "|      business owner|intramural volley...|     1|                 123|           3|\n",
      "|      Charity worker|              Hockey|     2|                 185|           3|\n",
      "|           Librarian|              Hockey|     2|                 180|         nan|\n",
      "|              Police|                 nan|     1|                 145|           3|\n",
      "|    stay at home mom|              hockey|     2|                 170|           3|\n",
      "|    Daycare provider|            dancing |     1|                 135|           3|\n",
      "|  physical therapist|          basketball|     2|                 165|           2|\n",
      "|             Teacher|              Soccer|     2|                 175|           3|\n",
      "|          House wife|              Tennis|     2|                 195|           3|\n",
      "|       Underwiriter |   tennis soccer gym|     2|                 185|           3|\n",
      "|         Beautician |     Gaelic Football|     2|                 185|           3|\n",
      "|          Unemployed|                none|     1|                 105|           2|\n",
      "|                null|                null|     1|                null|           3|\n",
      "|                null|                null|     3|                null|           1|\n",
      "|Doctors Billing A...|              Hockey|     2|                 160|           2|\n",
      "+--------------------+--------------------+------+--------------------+------------+\n",
      "only showing top 30 rows\n",
      "\n"
     ]
    }
   ],
   "source": [
    "# Selecionando algumas colunas\n",
    "df.select('mother_profession', 'type_sports', 'Gender', 'weight', 'calories_day').show(30)"
   ]
  },
  {
   "cell_type": "code",
   "execution_count": 36,
   "id": "b48544bc",
   "metadata": {},
   "outputs": [
    {
     "name": "stdout",
     "output_type": "stream",
     "text": [
      "+--------------------+--------------------+------+--------------------+------------+\n",
      "|   mother_profession|         type_sports|Gender|              weight|calories_day|\n",
      "+--------------------+--------------------+------+--------------------+------------+\n",
      "|          unemployed|          car racing|     2|                 187|         nan|\n",
      "|           Nurse RN |         Basketball |     1|                 155|           3|\n",
      "|       owns business|                none|     1|I'm not answering...|           4|\n",
      "|Substance Abuse C...|            Softball|     1|                 190|           2|\n",
      "|        Hair Braider|               None.|     1|                 190|           3|\n",
      "|          Journalist|              soccer|     2|                 180|           3|\n",
      "|                cook|                none|     1|                 137|           3|\n",
      "|Elementary School...|                none|     1|                 180|         nan|\n",
      "|  Pharmaceutical rep|        field hockey|     1|                 125|           3|\n",
      "|     Chidos Cleaners|              soccer|     1|                 116|           3|\n",
      "|     Court Reporter |             Running|     1|                 110|           4|\n",
      "|Child care provider |Soccer and basket...|     2|                 264|           3|\n",
      "|      business owner|intramural volley...|     1|                 123|           3|\n",
      "|      Charity worker|              Hockey|     2|                 185|           3|\n",
      "|           Librarian|              Hockey|     2|                 180|         nan|\n",
      "|              Police|                 nan|     1|                 145|           3|\n",
      "|    stay at home mom|              hockey|     2|                 170|           3|\n",
      "|    Daycare provider|            dancing |     1|                 135|           3|\n",
      "|  physical therapist|          basketball|     2|                 165|           2|\n",
      "|             Teacher|              Soccer|     2|                 175|           3|\n",
      "+--------------------+--------------------+------+--------------------+------------+\n",
      "only showing top 20 rows\n",
      "\n"
     ]
    }
   ],
   "source": [
    "# utilizando funcoes do pyspark\n",
    "from pyspark.sql.functions import * # Importando todas as Bibliotecas\n",
    "\n",
    "# Filtrando os dados que nao sao nulos\n",
    "resultado_df1 = df.filter(df.weight.isNotNull()).select('mother_profession', 'type_sports', 'Gender', 'weight', 'calories_day')\n",
    "\n",
    "# Exibindo os dados\n",
    "resultado_df1.show()"
   ]
  },
  {
   "cell_type": "code",
   "execution_count": 37,
   "id": "bfa9ea07",
   "metadata": {},
   "outputs": [
    {
     "name": "stdout",
     "output_type": "stream",
     "text": [
      "+--------------------+--------------------+------+------+------------+\n",
      "|   mother_profession|         type_sports|Gender|weight|calories_day|\n",
      "+--------------------+--------------------+------+------+------------+\n",
      "|          unemployed|          car racing|     2|   187|         nan|\n",
      "|           Nurse RN |         Basketball |     1|   155|           3|\n",
      "|Substance Abuse C...|            Softball|     1|   190|           2|\n",
      "|        Hair Braider|               None.|     1|   190|           3|\n",
      "|          Journalist|              soccer|     2|   180|           3|\n",
      "|                cook|                none|     1|   137|           3|\n",
      "|Elementary School...|                none|     1|   180|         nan|\n",
      "|  Pharmaceutical rep|        field hockey|     1|   125|           3|\n",
      "|     Chidos Cleaners|              soccer|     1|   116|           3|\n",
      "|     Court Reporter |             Running|     1|   110|           4|\n",
      "|Child care provider |Soccer and basket...|     2|   264|           3|\n",
      "|      business owner|intramural volley...|     1|   123|           3|\n",
      "|      Charity worker|              Hockey|     2|   185|           3|\n",
      "|           Librarian|              Hockey|     2|   180|         nan|\n",
      "|              Police|                 nan|     1|   145|           3|\n",
      "|    stay at home mom|              hockey|     2|   170|           3|\n",
      "|    Daycare provider|            dancing |     1|   135|           3|\n",
      "|  physical therapist|          basketball|     2|   165|           2|\n",
      "|             Teacher|              Soccer|     2|   175|           3|\n",
      "|          House wife|              Tennis|     2|   195|           3|\n",
      "+--------------------+--------------------+------+------+------------+\n",
      "only showing top 20 rows\n",
      "\n"
     ]
    }
   ],
   "source": [
    "# Retirando por meio de REGEX todos os caracteres que nao sejam numericos do campo weight\n",
    "resultado_df2 = resultado_df1.filter(col('weight').rlike('^[0-9]*$'))\n",
    "resultado_df2.show()"
   ]
  },
  {
   "cell_type": "code",
   "execution_count": 39,
   "id": "288caeb3",
   "metadata": {},
   "outputs": [
    {
     "name": "stdout",
     "output_type": "stream",
     "text": [
      "+------+------+-----+\n",
      "|Gender|weight|count|\n",
      "+------+------+-----+\n",
      "|     1|     1|    1|\n",
      "|     1|   100|    1|\n",
      "|     1|   105|    1|\n",
      "|     1|   110|    1|\n",
      "|     1|   112|    1|\n",
      "|     1|   113|    1|\n",
      "|     1|   115|    1|\n",
      "|     1|   116|    1|\n",
      "|     1|   120|    3|\n",
      "|     1|   123|    1|\n",
      "|     1|   125|    4|\n",
      "|     1|   127|    1|\n",
      "|     1|   128|    2|\n",
      "|     1|   129|    2|\n",
      "|     1|   130|    3|\n",
      "|     1|   135|    7|\n",
      "|     2|   135|    1|\n",
      "|     1|   137|    1|\n",
      "|     2|   140|    2|\n",
      "|     1|   140|    6|\n",
      "+------+------+-----+\n",
      "only showing top 20 rows\n",
      "\n"
     ]
    }
   ],
   "source": [
    "# Gerando uma agregaçao dos dados por Gender e Weight\n",
    "resultado_df2.groupBy('Gender', 'weight').count().orderBy('weight').show()"
   ]
  },
  {
   "cell_type": "code",
   "execution_count": 42,
   "id": "8143146e",
   "metadata": {},
   "outputs": [
    {
     "name": "stdout",
     "output_type": "stream",
     "text": [
      "+--------------------+--------------------------------------------+\n",
      "|         type_sports|CASE WHEN (weight >= 150) THEN Sobrepeso END|\n",
      "+--------------------+--------------------------------------------+\n",
      "|          car racing|                                   Sobrepeso|\n",
      "|         Basketball |                                   Sobrepeso|\n",
      "|            Softball|                                   Sobrepeso|\n",
      "|               None.|                                   Sobrepeso|\n",
      "|              soccer|                                   Sobrepeso|\n",
      "|                none|                                        null|\n",
      "|                none|                                   Sobrepeso|\n",
      "|        field hockey|                                        null|\n",
      "|              soccer|                                        null|\n",
      "|             Running|                                        null|\n",
      "|Soccer and basket...|                                   Sobrepeso|\n",
      "|intramural volley...|                                        null|\n",
      "|              Hockey|                                   Sobrepeso|\n",
      "|              Hockey|                                   Sobrepeso|\n",
      "|                 nan|                                        null|\n",
      "|              hockey|                                   Sobrepeso|\n",
      "|            dancing |                                        null|\n",
      "|          basketball|                                   Sobrepeso|\n",
      "|              Soccer|                                   Sobrepeso|\n",
      "|              Tennis|                                   Sobrepeso|\n",
      "+--------------------+--------------------------------------------+\n",
      "only showing top 20 rows\n",
      "\n"
     ]
    }
   ],
   "source": [
    "# Selecionando os registros cujos weight >= 150, indicando sobrepeso, separando por tipo de esporte\n",
    "resultado_df3 = resultado_df2.select('type_sports', when(resultado_df2.weight >= 150, 'Sobrepeso'))\n",
    "resultado_df3.show()"
   ]
  },
  {
   "cell_type": "code",
   "execution_count": 43,
   "id": "d3b6af35",
   "metadata": {},
   "outputs": [
    {
     "name": "stdout",
     "output_type": "stream",
     "text": [
      "+--------------------+--------------------------------------------+\n",
      "|         type_sports|CASE WHEN (weight >= 150) THEN Sobrepeso END|\n",
      "+--------------------+--------------------------------------------+\n",
      "|          car racing|                                   Sobrepeso|\n",
      "|         Basketball |                                   Sobrepeso|\n",
      "|            Softball|                                   Sobrepeso|\n",
      "|               None.|                                   Sobrepeso|\n",
      "|              soccer|                                   Sobrepeso|\n",
      "|                none|                                   Sobrepeso|\n",
      "|Soccer and basket...|                                   Sobrepeso|\n",
      "|              Hockey|                                   Sobrepeso|\n",
      "|              Hockey|                                   Sobrepeso|\n",
      "|              hockey|                                   Sobrepeso|\n",
      "|          basketball|                                   Sobrepeso|\n",
      "|              Soccer|                                   Sobrepeso|\n",
      "|              Tennis|                                   Sobrepeso|\n",
      "|   tennis soccer gym|                                   Sobrepeso|\n",
      "|     Gaelic Football|                                   Sobrepeso|\n",
      "|              Hockey|                                   Sobrepeso|\n",
      "|           Lacrosse |                                   Sobrepeso|\n",
      "|                 nan|                                   Sobrepeso|\n",
      "|                 nan|                                   Sobrepeso|\n",
      "|      none organized|                                   Sobrepeso|\n",
      "+--------------------+--------------------------------------------+\n",
      "only showing top 20 rows\n",
      "\n"
     ]
    }
   ],
   "source": [
    "# Retirando as informacoes nulas de Sobrepeso\n",
    "resultado_df4 = resultado_df3.filter(resultado_df3[1].isNotNull())\n",
    "resultado_df4.show()"
   ]
  },
  {
   "cell_type": "code",
   "execution_count": 44,
   "id": "c961ed1f",
   "metadata": {},
   "outputs": [
    {
     "name": "stdout",
     "output_type": "stream",
     "text": [
      "+--------------------+--------------------------------------------+\n",
      "|         type_sports|CASE WHEN (weight >= 150) THEN Sobrepeso END|\n",
      "+--------------------+--------------------------------------------+\n",
      "|          car racing|                                   Sobrepeso|\n",
      "|         Basketball |                                   Sobrepeso|\n",
      "|            Softball|                                   Sobrepeso|\n",
      "|              soccer|                                   Sobrepeso|\n",
      "|Soccer and basket...|                                   Sobrepeso|\n",
      "|              Hockey|                                   Sobrepeso|\n",
      "|              Hockey|                                   Sobrepeso|\n",
      "|              hockey|                                   Sobrepeso|\n",
      "|          basketball|                                   Sobrepeso|\n",
      "|              Soccer|                                   Sobrepeso|\n",
      "|              Tennis|                                   Sobrepeso|\n",
      "|   tennis soccer gym|                                   Sobrepeso|\n",
      "|     Gaelic Football|                                   Sobrepeso|\n",
      "|              Hockey|                                   Sobrepeso|\n",
      "|           Lacrosse |                                   Sobrepeso|\n",
      "|      none organized|                                   Sobrepeso|\n",
      "|            softball|                                   Sobrepeso|\n",
      "|            Lacrosse|                                   Sobrepeso|\n",
      "|           Softball |                                   Sobrepeso|\n",
      "|             Dancing|                                   Sobrepeso|\n",
      "+--------------------+--------------------------------------------+\n",
      "only showing top 20 rows\n",
      "\n"
     ]
    }
   ],
   "source": [
    "# Retirando as informacoes none, None., nan do primeiro campo (type_sports)\n",
    "resultado_df4.filter((resultado_df3[0] != 'none') & (resultado_df3[0] != 'None.') & (resultado_df3[0] != 'nan')).show()"
   ]
  },
  {
   "cell_type": "code",
   "execution_count": null,
   "id": "326e5393",
   "metadata": {},
   "outputs": [],
   "source": []
  }
 ],
 "metadata": {
  "kernelspec": {
   "display_name": "Python 3 (ipykernel)",
   "language": "python",
   "name": "python3"
  },
  "language_info": {
   "codemirror_mode": {
    "name": "ipython",
    "version": 3
   },
   "file_extension": ".py",
   "mimetype": "text/x-python",
   "name": "python",
   "nbconvert_exporter": "python",
   "pygments_lexer": "ipython3",
   "version": "3.9.12"
  }
 },
 "nbformat": 4,
 "nbformat_minor": 5
}
